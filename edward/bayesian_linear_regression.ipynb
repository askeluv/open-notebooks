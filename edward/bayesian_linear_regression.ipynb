{
 "cells": [
  {
   "cell_type": "markdown",
   "metadata": {},
   "source": [
    "Based on https://github.com/blei-lab/edward/blob/master/examples/bayesian_linear_regression.py"
   ]
  },
  {
   "cell_type": "code",
   "execution_count": 37,
   "metadata": {
    "collapsed": false
   },
   "outputs": [],
   "source": [
    "import edward as ed\n",
    "import numpy as np\n",
    "import tensorflow as tf\n",
    "import pandas as pd\n",
    "import matplotlib\n",
    "from edward.models import Normal\n",
    "\n",
    "%matplotlib inline"
   ]
  },
  {
   "cell_type": "code",
   "execution_count": 24,
   "metadata": {
    "collapsed": true
   },
   "outputs": [],
   "source": [
    "try: # if seed is set, we'll get an error\n",
    "    ed.set_seed(42)\n",
    "except:\n",
    "    pass"
   ]
  },
  {
   "cell_type": "code",
   "execution_count": 25,
   "metadata": {
    "collapsed": true
   },
   "outputs": [],
   "source": [
    "def build_toy_dataset(N, w, noise_std=0.1):\n",
    "    \"Creates dataset with N observations, where y = w*x + N(0, noise_std)\"\n",
    "    D = len(w)\n",
    "    x = np.random.randn(N, D).astype(np.float32)\n",
    "    y = np.dot(x, w) + np.random.normal(0, noise_std, size=N)\n",
    "    return x, y"
   ]
  },
  {
   "cell_type": "markdown",
   "metadata": {},
   "source": [
    "Set parameters for dataset"
   ]
  },
  {
   "cell_type": "code",
   "execution_count": 26,
   "metadata": {
    "collapsed": false
   },
   "outputs": [],
   "source": [
    "N = 40  # number of data points\n",
    "D = 1  # number of features"
   ]
  },
  {
   "cell_type": "markdown",
   "metadata": {},
   "source": [
    "Generate data"
   ]
  },
  {
   "cell_type": "code",
   "execution_count": 27,
   "metadata": {
    "collapsed": false
   },
   "outputs": [],
   "source": [
    "w_true = np.random.randn(D) # creates a random set of \"true\" weights\n",
    "X_train, y_train = build_toy_dataset(N, w_true) # generates training set\n",
    "X_test, y_test = build_toy_dataset(N, w_true) # generates test set"
   ]
  },
  {
   "cell_type": "markdown",
   "metadata": {},
   "source": [
    "Visualize one feature `x1` against `y`"
   ]
  },
  {
   "cell_type": "code",
   "execution_count": 39,
   "metadata": {
    "collapsed": false
   },
   "outputs": [
    {
     "data": {
      "image/png": "[encoded data removed]",
      "text/plain": [
       "<matplotlib.figure.Figure at 0x11788a550>"
      ]
     },
     "metadata": {},
     "output_type": "display_data"
    }
   ],
   "source": [
    "df_train = pd.DataFrame(X_train)\n",
    "df_train.columns = [\"x%d\" % (i+1) for i in range(df_train.shape[1])]\n",
    "df_train[\"y\"] = y_train\n",
    "df_train.plot(x=\"x1\", y=\"y\", kind=\"scatter\");"
   ]
  },
  {
   "cell_type": "markdown",
   "metadata": {},
   "source": [
    "Define model"
   ]
  },
  {
   "cell_type": "code",
   "execution_count": 15,
   "metadata": {
    "collapsed": true
   },
   "outputs": [],
   "source": [
    "X = tf.placeholder(tf.float32, [N, D]) # N observations x D dimensions\n",
    "w = Normal(mu=tf.zeros(D), sigma=tf.ones(D)) # \n",
    "b = Normal(mu=tf.zeros(1), sigma=tf.ones(1))\n",
    "y = Normal(mu=ed.dot(X, w) + b, sigma=tf.ones(N))"
   ]
  },
  {
   "cell_type": "markdown",
   "metadata": {},
   "source": [
    "Do inference"
   ]
  },
  {
   "cell_type": "code",
   "execution_count": 16,
   "metadata": {
    "collapsed": false
   },
   "outputs": [
    {
     "name": "stdout",
     "output_type": "stream",
     "text": [
      "Iteration   1 [  0%]: Loss = 66.366\n",
      "Iteration  25 [ 10%]: Loss = 41.780\n",
      "Iteration  50 [ 20%]: Loss = 40.474\n",
      "Iteration  75 [ 30%]: Loss = 40.809\n",
      "Iteration 100 [ 40%]: Loss = 40.600\n",
      "Iteration 125 [ 50%]: Loss = 40.697\n",
      "Iteration 150 [ 60%]: Loss = 40.920\n",
      "Iteration 175 [ 70%]: Loss = 40.891\n",
      "Iteration 200 [ 80%]: Loss = 41.015\n",
      "Iteration 225 [ 90%]: Loss = 41.107\n",
      "Iteration 250 [100%]: Loss = 40.569\n"
     ]
    }
   ],
   "source": [
    "qw = Normal(mu=tf.Variable(tf.random_normal([D])),\n",
    "            sigma=tf.nn.softplus(tf.Variable(tf.random_normal([D]))))\n",
    "qb = Normal(mu=tf.Variable(tf.random_normal([1])),\n",
    "            sigma=tf.nn.softplus(tf.Variable(tf.random_normal([1]))))\n",
    "\n",
    "inference = ed.KLqp({w: qw, b: qb}, data={X: X_train, y: y_train})\n",
    "inference.run(n_samples=5, n_iter=250)"
   ]
  },
  {
   "cell_type": "markdown",
   "metadata": {},
   "source": [
    "Evaluate"
   ]
  },
  {
   "cell_type": "code",
   "execution_count": 17,
   "metadata": {
    "collapsed": false
   },
   "outputs": [
    {
     "name": "stdout",
     "output_type": "stream",
     "text": [
      "Mean squared error on test data:\n",
      "0.0108798\n"
     ]
    }
   ],
   "source": [
    "y_post = ed.copy(y, {w: qw.mean(), b: qb.mean()})\n",
    "# This is equivalent to\n",
    "# y_post = Normal(mu=ed.dot(X, qw.mean()) + qb.mean(), sigma=tf.ones(N))\n",
    "\n",
    "print(\"Mean squared error on test data:\")\n",
    "print(ed.evaluate('mean_squared_error', data={X: X_test, y_post: y_test}))"
   ]
  },
  {
   "cell_type": "code",
   "execution_count": 47,
   "metadata": {
    "collapsed": false
   },
   "outputs": [
    {
     "data": {
      "text/plain": [
       "<tf.Tensor 'Normal_8/mean_2/mul:0' shape=(1,) dtype=float32>"
      ]
     },
     "execution_count": 47,
     "metadata": {},
     "output_type": "execute_result"
    }
   ],
   "source": []
  },
  {
   "cell_type": "code",
   "execution_count": null,
   "metadata": {
    "collapsed": true
   },
   "outputs": [],
   "source": []
  }
 ],
 "metadata": {
  "kernelspec": {
   "display_name": "Python 3",
   "language": "python",
   "name": "python3"
  },
  "language_info": {
   "codemirror_mode": {
    "name": "ipython",
    "version": 3
   },
   "file_extension": ".py",
   "mimetype": "text/x-python",
   "name": "python",
   "nbconvert_exporter": "python",
   "pygments_lexer": "ipython3",
   "version": "3.4.5"
  }
 },
 "nbformat": 4,
 "nbformat_minor": 2
}
