{
 "cells": [
  {
   "cell_type": "markdown",
   "metadata": {},
   "source": [
    "Based on http://edwardlib.org/getting-started"
   ]
  },
  {
   "cell_type": "code",
   "execution_count": 14,
   "metadata": {
    "collapsed": true
   },
   "outputs": [],
   "source": [
    "import numpy as np\n",
    "import tensorflow as tf\n",
    "import edward as ed\n",
    "import pandas as pd\n",
    "import matplotlib\n",
    "%matplotlib inline"
   ]
  },
  {
   "cell_type": "markdown",
   "metadata": {},
   "source": [
    "Simulate a toy dataset of 50 observations with a cosine relationship"
   ]
  },
  {
   "cell_type": "code",
   "execution_count": 22,
   "metadata": {
    "collapsed": false
   },
   "outputs": [
    {
     "data": {
      "image/png": "[encoded data removed]",
      "text/plain": [
       "<matplotlib.figure.Figure at 0x11629f1d0>"
      ]
     },
     "metadata": {},
     "output_type": "display_data"
    }
   ],
   "source": [
    "x_train = np.linspace(-3, 3, num=50)\n",
    "y_train = np.cos(x_train) + np.random.normal(0, 0.1, size=50)\n",
    "pd.DataFrame({\"x\" : x_train, \"y\" : y_train}).plot(x=\"x\", y=\"y\", kind=\"scatter\");"
   ]
  },
  {
   "cell_type": "markdown",
   "metadata": {},
   "source": [
    "Reshape vectors to become matrices with 1 column"
   ]
  },
  {
   "cell_type": "code",
   "execution_count": 23,
   "metadata": {
    "collapsed": false
   },
   "outputs": [],
   "source": [
    "x_train = x_train.astype(np.float32).reshape((50, 1))\n",
    "y_train = y_train.astype(np.float32).reshape((50, 1))"
   ]
  },
  {
   "cell_type": "markdown",
   "metadata": {},
   "source": [
    "Define a two-layer Bayesian neural network. Here, we define the neural network manually with tanh nonlinearities"
   ]
  },
  {
   "cell_type": "code",
   "execution_count": 32,
   "metadata": {
    "collapsed": false
   },
   "outputs": [
    {
     "data": {
      "text/plain": [
       "array([[ 0.]])"
      ]
     },
     "execution_count": 32,
     "metadata": {},
     "output_type": "execute_result"
    }
   ],
   "source": [
    "np.matmul(np.zeros([1, 2]), np.zeros([2, 1]))"
   ]
  },
  {
   "cell_type": "code",
   "execution_count": 3,
   "metadata": {
    "collapsed": false
   },
   "outputs": [],
   "source": [
    "W_0 = ed.models.Normal(mu=tf.zeros([1, 2]), sigma=tf.ones([1, 2]))\n",
    "b_0 = ed.models.Normal(mu=tf.zeros(2), sigma=tf.ones(2))\n",
    "\n",
    "W_1 = ed.models.Normal(mu=tf.zeros([2, 1]), sigma=tf.ones([2, 1]))\n",
    "b_1 = ed.models.Normal(mu=tf.zeros(1), sigma=tf.ones(1))\n",
    "\n",
    "x = x_train\n",
    "y = ed.models.Normal(mu=tf.matmul(tf.tanh(tf.matmul(x, W_0) + b_0), W_1) + b_1, sigma=0.1)"
   ]
  },
  {
   "cell_type": "markdown",
   "metadata": {},
   "source": [
    "Make inferences about the model from data. We will use variational inference. Specify a normal approximation over the weights and biases."
   ]
  },
  {
   "cell_type": "code",
   "execution_count": 4,
   "metadata": {
    "collapsed": true
   },
   "outputs": [],
   "source": [
    "qW_0 = ed.models.Normal(mu=tf.Variable(tf.zeros([1, 2])),\n",
    "              sigma=tf.nn.softplus(tf.Variable(tf.zeros([1, 2]))))\n",
    "qW_1 = ed.models.Normal(mu=tf.Variable(tf.zeros([2, 1])),\n",
    "              sigma=tf.nn.softplus(tf.Variable(tf.zeros([2, 1]))))\n",
    "qb_0 = ed.models.Normal(mu=tf.Variable(tf.zeros(2)),\n",
    "              sigma=tf.nn.softplus(tf.Variable(tf.zeros(2))))\n",
    "qb_1 = ed.models.Normal(mu=tf.Variable(tf.zeros(1)),\n",
    "              sigma=tf.nn.softplus(tf.Variable(tf.zeros(1))))"
   ]
  },
  {
   "cell_type": "markdown",
   "metadata": {},
   "source": [
    "Run variational inference with the Kullback-Leibler divergence in order to infer the model’s latent variables given data"
   ]
  },
  {
   "cell_type": "code",
   "execution_count": 25,
   "metadata": {
    "collapsed": false
   },
   "outputs": [
    {
     "name": "stdout",
     "output_type": "stream",
     "text": [
      "Iteration   1 [  0%]: Loss = 1258.123\n",
      "Iteration  50 [ 10%]: Loss = 2254.828\n",
      "Iteration 100 [ 20%]: Loss = 1198.416\n",
      "Iteration 150 [ 30%]: Loss = 1246.887\n",
      "Iteration 200 [ 40%]: Loss = 1288.188\n",
      "Iteration 250 [ 50%]: Loss = 1225.782\n",
      "Iteration 300 [ 60%]: Loss = 768.743\n",
      "Iteration 350 [ 70%]: Loss = 111.406\n",
      "Iteration 400 [ 80%]: Loss = 13.850\n",
      "Iteration 450 [ 90%]: Loss = 10.089\n",
      "Iteration 500 [100%]: Loss = 4.121\n"
     ]
    }
   ],
   "source": [
    "inference = ed.KLqp({W_0: qW_0, b_0: qb_0,\n",
    "                     W_1: qW_1, b_1: qb_1}, data={y: y_train})\n",
    "inference.run(n_iter=500)"
   ]
  },
  {
   "cell_type": "code",
   "execution_count": 33,
   "metadata": {
    "collapsed": false
   },
   "outputs": [],
   "source": [
    "y_post = ed.models.Normal(mu=tf.matmul(tf.tanh(tf.matmul(x, qW_0.mean()) + qb_0.mean()), qW_1.mean()) + qb_1.mean(), sigma=0.1)"
   ]
  },
  {
   "cell_type": "code",
   "execution_count": 35,
   "metadata": {
    "collapsed": false
   },
   "outputs": [
    {
     "ename": "AttributeError",
     "evalue": "'Normal' object has no attribute 'plot'",
     "output_type": "error",
     "traceback": [
      "\u001b[0;31m---------------------------------------------------------------------------\u001b[0m",
      "\u001b[0;31mAttributeError\u001b[0m                            Traceback (most recent call last)",
      "\u001b[0;32m<ipython-input-35-717628bd2fca>\u001b[0m in \u001b[0;36m<module>\u001b[0;34m()\u001b[0m\n\u001b[0;32m----> 1\u001b[0;31m \u001b[0my_post\u001b[0m\u001b[0;34m.\u001b[0m\u001b[0mplot\u001b[0m\u001b[0;34m(\u001b[0m\u001b[0;34m)\u001b[0m\u001b[0;34m\u001b[0m\u001b[0m\n\u001b[0m",
      "\u001b[0;31mAttributeError\u001b[0m: 'Normal' object has no attribute 'plot'"
     ]
    }
   ],
   "source": [
    "y_post."
   ]
  },
  {
   "cell_type": "code",
   "execution_count": null,
   "metadata": {
    "collapsed": true
   },
   "outputs": [],
   "source": []
  }
 ],
 "metadata": {
  "kernelspec": {
   "display_name": "Python 3",
   "language": "python",
   "name": "python3"
  },
  "language_info": {
   "codemirror_mode": {
    "name": "ipython",
    "version": 3
   },
   "file_extension": ".py",
   "mimetype": "text/x-python",
   "name": "python",
   "nbconvert_exporter": "python",
   "pygments_lexer": "ipython3",
   "version": "3.4.5"
  }
 },
 "nbformat": 4,
 "nbformat_minor": 2
}
